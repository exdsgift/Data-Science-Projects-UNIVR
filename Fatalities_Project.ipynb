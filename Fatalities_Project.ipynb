{
  "nbformat": 4,
  "nbformat_minor": 0,
  "metadata": {
    "colab": {
      "provenance": [],
      "toc_visible": true,
      "mount_file_id": "1kv9bxQJjh_2q6cgBw9pc2ePVmU9B5Fpi",
      "authorship_tag": "ABX9TyNQbsWpgqCW5vTZCx4wxwDG",
      "include_colab_link": true
    },
    "kernelspec": {
      "name": "python3",
      "display_name": "Python 3"
    },
    "language_info": {
      "name": "python"
    }
  },
  "cells": [
    {
      "cell_type": "markdown",
      "metadata": {
        "id": "view-in-github",
        "colab_type": "text"
      },
      "source": [
        "<a href=\"https://colab.research.google.com/github/exdsgift/Data-Science-Projects-UNIVR/blob/main/Fatalities_Project.ipynb\" target=\"_parent\"><img src=\"https://colab.research.google.com/assets/colab-badge.svg\" alt=\"Open In Colab\"/></a>"
      ]
    },
    {
      "cell_type": "markdown",
      "source": [
        "**packages:** Importing the most useful packages to perform data exploration and visualization"
      ],
      "metadata": {
        "id": "5W9sZa09L_nR"
      }
    },
    {
      "cell_type": "code",
      "execution_count": 66,
      "metadata": {
        "id": "uO8mdeBYL98z"
      },
      "outputs": [],
      "source": [
        "import pandas as pd\n",
        "import os\n",
        "import numpy as np\n",
        "import matplotlib.pyplot as plt\n",
        "import seaborn as sns\n",
        "import plotly.express as px\n",
        "import folium"
      ]
    },
    {
      "cell_type": "markdown",
      "source": [
        "# **PART 1:** dataset import and Data Cleaning"
      ],
      "metadata": {
        "id": "7vtMjOz9MhW0"
      }
    },
    {
      "cell_type": "markdown",
      "source": [
        "The dataset is available at the following link: https://www.kaggle.com/datasets/willianoliveiragibin/fatalities-in-the-israeli-palestinian. It reports data on victims of terrorism in Israel and the war in Palestine."
      ],
      "metadata": {
        "id": "buCck36RPptJ"
      }
    },
    {
      "cell_type": "markdown",
      "source": [
        "This notebook aims to analyse events and fatalities by\n",
        "\n",
        "- Year, month, and day of the month of events that led to fatalities\n",
        "- Victim profiles such as age, gender, citizenship, participation in hostilities etc\n",
        "- Event locations, location districts, and location regions\n",
        "- Type of injury, type of ammunition, and party responsible for killings, among others."
      ],
      "metadata": {
        "id": "dy0jiDjRaQ5H"
      }
    },
    {
      "cell_type": "markdown",
      "source": [
        "## Upload and first check at the data"
      ],
      "metadata": {
        "id": "kMJWiEqPZtGe"
      }
    },
    {
      "cell_type": "code",
      "source": [
        "fatalities_df = pd.read_csv('drive/MyDrive/fatalities_isr_pse_conflict_2000_to_2023.csv')\n",
        "fatalities_df.head()"
      ],
      "metadata": {
        "colab": {
          "base_uri": "https://localhost:8080/",
          "height": 712
        },
        "id": "Led1mPJvNqGV",
        "outputId": "c4cd24d6-b2c9-4e25-c920-708e9ffd5d83"
      },
      "execution_count": 2,
      "outputs": [
        {
          "output_type": "execute_result",
          "data": {
            "text/plain": [
              "                                          name date_of_event   age  \\\n",
              "0  'Abd a-Rahman Suleiman Muhammad Abu Daghash    2023-09-24  32.0   \n",
              "1         Usayed Farhan Muhammad 'Ali Abu 'Ali    2023-09-24  21.0   \n",
              "2             'Abdallah 'Imad Sa'ed Abu Hassan    2023-09-22  16.0   \n",
              "3             Durgham Muhammad Yihya al-Akhras    2023-09-20  19.0   \n",
              "4                 Raafat 'Omar Ahmad Khamaisah    2023-09-19  15.0   \n",
              "\n",
              "   citizenship     event_location event_location_district  \\\n",
              "0  Palestinian     Nur Shams R.C.                 Tulkarm   \n",
              "1  Palestinian     Nur Shams R.C.                 Tulkarm   \n",
              "2  Palestinian           Kfar Dan                   Jenin   \n",
              "3  Palestinian  'Aqbat Jaber R.C.                 Jericho   \n",
              "4  Palestinian         Jenin R.C.                   Jenin   \n",
              "\n",
              "  event_location_region date_of_death gender took_part_in_the_hostilities  \\\n",
              "0             West Bank    2023-09-24      M                          NaN   \n",
              "1             West Bank    2023-09-24      M                          NaN   \n",
              "2             West Bank    2023-09-22      M                          NaN   \n",
              "3             West Bank    2023-09-20      M                          NaN   \n",
              "4             West Bank    2023-09-19      M                          NaN   \n",
              "\n",
              "  place_of_residence place_of_residence_district type_of_injury  \\\n",
              "0     Nur Shams R.C.                     Tulkarm        gunfire   \n",
              "1     Nur Shams R.C.                     Tulkarm        gunfire   \n",
              "2           al-Yamun                       Jenin        gunfire   \n",
              "3  'Aqbat Jaber R.C.                     Jericho        gunfire   \n",
              "4              Jenin                       Jenin        gunfire   \n",
              "\n",
              "        ammunition                killed_by  \\\n",
              "0  live ammunition  Israeli security forces   \n",
              "1  live ammunition  Israeli security forces   \n",
              "2  live ammunition  Israeli security forces   \n",
              "3  live ammunition  Israeli security forces   \n",
              "4  live ammunition  Israeli security forces   \n",
              "\n",
              "                                               notes  \n",
              "0  Fatally shot by Israeli forces while standing ...  \n",
              "1  Fatally shot by Israeli forces while trying to...  \n",
              "2  Fatally shot by soldiers while firing at them ...  \n",
              "3  Shot in the head by Israeli forces while throw...  \n",
              "4  Wounded by soldiers’ gunfire after running awa...  "
            ],
            "text/html": [
              "\n",
              "  <div id=\"df-b32b50b3-8ed9-44ea-97a9-522962816867\" class=\"colab-df-container\">\n",
              "    <div>\n",
              "<style scoped>\n",
              "    .dataframe tbody tr th:only-of-type {\n",
              "        vertical-align: middle;\n",
              "    }\n",
              "\n",
              "    .dataframe tbody tr th {\n",
              "        vertical-align: top;\n",
              "    }\n",
              "\n",
              "    .dataframe thead th {\n",
              "        text-align: right;\n",
              "    }\n",
              "</style>\n",
              "<table border=\"1\" class=\"dataframe\">\n",
              "  <thead>\n",
              "    <tr style=\"text-align: right;\">\n",
              "      <th></th>\n",
              "      <th>name</th>\n",
              "      <th>date_of_event</th>\n",
              "      <th>age</th>\n",
              "      <th>citizenship</th>\n",
              "      <th>event_location</th>\n",
              "      <th>event_location_district</th>\n",
              "      <th>event_location_region</th>\n",
              "      <th>date_of_death</th>\n",
              "      <th>gender</th>\n",
              "      <th>took_part_in_the_hostilities</th>\n",
              "      <th>place_of_residence</th>\n",
              "      <th>place_of_residence_district</th>\n",
              "      <th>type_of_injury</th>\n",
              "      <th>ammunition</th>\n",
              "      <th>killed_by</th>\n",
              "      <th>notes</th>\n",
              "    </tr>\n",
              "  </thead>\n",
              "  <tbody>\n",
              "    <tr>\n",
              "      <th>0</th>\n",
              "      <td>'Abd a-Rahman Suleiman Muhammad Abu Daghash</td>\n",
              "      <td>2023-09-24</td>\n",
              "      <td>32.0</td>\n",
              "      <td>Palestinian</td>\n",
              "      <td>Nur Shams R.C.</td>\n",
              "      <td>Tulkarm</td>\n",
              "      <td>West Bank</td>\n",
              "      <td>2023-09-24</td>\n",
              "      <td>M</td>\n",
              "      <td>NaN</td>\n",
              "      <td>Nur Shams R.C.</td>\n",
              "      <td>Tulkarm</td>\n",
              "      <td>gunfire</td>\n",
              "      <td>live ammunition</td>\n",
              "      <td>Israeli security forces</td>\n",
              "      <td>Fatally shot by Israeli forces while standing ...</td>\n",
              "    </tr>\n",
              "    <tr>\n",
              "      <th>1</th>\n",
              "      <td>Usayed Farhan Muhammad 'Ali Abu 'Ali</td>\n",
              "      <td>2023-09-24</td>\n",
              "      <td>21.0</td>\n",
              "      <td>Palestinian</td>\n",
              "      <td>Nur Shams R.C.</td>\n",
              "      <td>Tulkarm</td>\n",
              "      <td>West Bank</td>\n",
              "      <td>2023-09-24</td>\n",
              "      <td>M</td>\n",
              "      <td>NaN</td>\n",
              "      <td>Nur Shams R.C.</td>\n",
              "      <td>Tulkarm</td>\n",
              "      <td>gunfire</td>\n",
              "      <td>live ammunition</td>\n",
              "      <td>Israeli security forces</td>\n",
              "      <td>Fatally shot by Israeli forces while trying to...</td>\n",
              "    </tr>\n",
              "    <tr>\n",
              "      <th>2</th>\n",
              "      <td>'Abdallah 'Imad Sa'ed Abu Hassan</td>\n",
              "      <td>2023-09-22</td>\n",
              "      <td>16.0</td>\n",
              "      <td>Palestinian</td>\n",
              "      <td>Kfar Dan</td>\n",
              "      <td>Jenin</td>\n",
              "      <td>West Bank</td>\n",
              "      <td>2023-09-22</td>\n",
              "      <td>M</td>\n",
              "      <td>NaN</td>\n",
              "      <td>al-Yamun</td>\n",
              "      <td>Jenin</td>\n",
              "      <td>gunfire</td>\n",
              "      <td>live ammunition</td>\n",
              "      <td>Israeli security forces</td>\n",
              "      <td>Fatally shot by soldiers while firing at them ...</td>\n",
              "    </tr>\n",
              "    <tr>\n",
              "      <th>3</th>\n",
              "      <td>Durgham Muhammad Yihya al-Akhras</td>\n",
              "      <td>2023-09-20</td>\n",
              "      <td>19.0</td>\n",
              "      <td>Palestinian</td>\n",
              "      <td>'Aqbat Jaber R.C.</td>\n",
              "      <td>Jericho</td>\n",
              "      <td>West Bank</td>\n",
              "      <td>2023-09-20</td>\n",
              "      <td>M</td>\n",
              "      <td>NaN</td>\n",
              "      <td>'Aqbat Jaber R.C.</td>\n",
              "      <td>Jericho</td>\n",
              "      <td>gunfire</td>\n",
              "      <td>live ammunition</td>\n",
              "      <td>Israeli security forces</td>\n",
              "      <td>Shot in the head by Israeli forces while throw...</td>\n",
              "    </tr>\n",
              "    <tr>\n",
              "      <th>4</th>\n",
              "      <td>Raafat 'Omar Ahmad Khamaisah</td>\n",
              "      <td>2023-09-19</td>\n",
              "      <td>15.0</td>\n",
              "      <td>Palestinian</td>\n",
              "      <td>Jenin R.C.</td>\n",
              "      <td>Jenin</td>\n",
              "      <td>West Bank</td>\n",
              "      <td>2023-09-19</td>\n",
              "      <td>M</td>\n",
              "      <td>NaN</td>\n",
              "      <td>Jenin</td>\n",
              "      <td>Jenin</td>\n",
              "      <td>gunfire</td>\n",
              "      <td>live ammunition</td>\n",
              "      <td>Israeli security forces</td>\n",
              "      <td>Wounded by soldiers’ gunfire after running awa...</td>\n",
              "    </tr>\n",
              "  </tbody>\n",
              "</table>\n",
              "</div>\n",
              "    <div class=\"colab-df-buttons\">\n",
              "\n",
              "  <div class=\"colab-df-container\">\n",
              "    <button class=\"colab-df-convert\" onclick=\"convertToInteractive('df-b32b50b3-8ed9-44ea-97a9-522962816867')\"\n",
              "            title=\"Convert this dataframe to an interactive table.\"\n",
              "            style=\"display:none;\">\n",
              "\n",
              "  <svg xmlns=\"http://www.w3.org/2000/svg\" height=\"24px\" viewBox=\"0 -960 960 960\">\n",
              "    <path d=\"M120-120v-720h720v720H120Zm60-500h600v-160H180v160Zm220 220h160v-160H400v160Zm0 220h160v-160H400v160ZM180-400h160v-160H180v160Zm440 0h160v-160H620v160ZM180-180h160v-160H180v160Zm440 0h160v-160H620v160Z\"/>\n",
              "  </svg>\n",
              "    </button>\n",
              "\n",
              "  <style>\n",
              "    .colab-df-container {\n",
              "      display:flex;\n",
              "      gap: 12px;\n",
              "    }\n",
              "\n",
              "    .colab-df-convert {\n",
              "      background-color: #E8F0FE;\n",
              "      border: none;\n",
              "      border-radius: 50%;\n",
              "      cursor: pointer;\n",
              "      display: none;\n",
              "      fill: #1967D2;\n",
              "      height: 32px;\n",
              "      padding: 0 0 0 0;\n",
              "      width: 32px;\n",
              "    }\n",
              "\n",
              "    .colab-df-convert:hover {\n",
              "      background-color: #E2EBFA;\n",
              "      box-shadow: 0px 1px 2px rgba(60, 64, 67, 0.3), 0px 1px 3px 1px rgba(60, 64, 67, 0.15);\n",
              "      fill: #174EA6;\n",
              "    }\n",
              "\n",
              "    .colab-df-buttons div {\n",
              "      margin-bottom: 4px;\n",
              "    }\n",
              "\n",
              "    [theme=dark] .colab-df-convert {\n",
              "      background-color: #3B4455;\n",
              "      fill: #D2E3FC;\n",
              "    }\n",
              "\n",
              "    [theme=dark] .colab-df-convert:hover {\n",
              "      background-color: #434B5C;\n",
              "      box-shadow: 0px 1px 3px 1px rgba(0, 0, 0, 0.15);\n",
              "      filter: drop-shadow(0px 1px 2px rgba(0, 0, 0, 0.3));\n",
              "      fill: #FFFFFF;\n",
              "    }\n",
              "  </style>\n",
              "\n",
              "    <script>\n",
              "      const buttonEl =\n",
              "        document.querySelector('#df-b32b50b3-8ed9-44ea-97a9-522962816867 button.colab-df-convert');\n",
              "      buttonEl.style.display =\n",
              "        google.colab.kernel.accessAllowed ? 'block' : 'none';\n",
              "\n",
              "      async function convertToInteractive(key) {\n",
              "        const element = document.querySelector('#df-b32b50b3-8ed9-44ea-97a9-522962816867');\n",
              "        const dataTable =\n",
              "          await google.colab.kernel.invokeFunction('convertToInteractive',\n",
              "                                                    [key], {});\n",
              "        if (!dataTable) return;\n",
              "\n",
              "        const docLinkHtml = 'Like what you see? Visit the ' +\n",
              "          '<a target=\"_blank\" href=https://colab.research.google.com/notebooks/data_table.ipynb>data table notebook</a>'\n",
              "          + ' to learn more about interactive tables.';\n",
              "        element.innerHTML = '';\n",
              "        dataTable['output_type'] = 'display_data';\n",
              "        await google.colab.output.renderOutput(dataTable, element);\n",
              "        const docLink = document.createElement('div');\n",
              "        docLink.innerHTML = docLinkHtml;\n",
              "        element.appendChild(docLink);\n",
              "      }\n",
              "    </script>\n",
              "  </div>\n",
              "\n",
              "\n",
              "<div id=\"df-2c6fdd34-5dc5-422e-8198-ca866563948f\">\n",
              "  <button class=\"colab-df-quickchart\" onclick=\"quickchart('df-2c6fdd34-5dc5-422e-8198-ca866563948f')\"\n",
              "            title=\"Suggest charts\"\n",
              "            style=\"display:none;\">\n",
              "\n",
              "<svg xmlns=\"http://www.w3.org/2000/svg\" height=\"24px\"viewBox=\"0 0 24 24\"\n",
              "     width=\"24px\">\n",
              "    <g>\n",
              "        <path d=\"M19 3H5c-1.1 0-2 .9-2 2v14c0 1.1.9 2 2 2h14c1.1 0 2-.9 2-2V5c0-1.1-.9-2-2-2zM9 17H7v-7h2v7zm4 0h-2V7h2v10zm4 0h-2v-4h2v4z\"/>\n",
              "    </g>\n",
              "</svg>\n",
              "  </button>\n",
              "\n",
              "<style>\n",
              "  .colab-df-quickchart {\n",
              "      --bg-color: #E8F0FE;\n",
              "      --fill-color: #1967D2;\n",
              "      --hover-bg-color: #E2EBFA;\n",
              "      --hover-fill-color: #174EA6;\n",
              "      --disabled-fill-color: #AAA;\n",
              "      --disabled-bg-color: #DDD;\n",
              "  }\n",
              "\n",
              "  [theme=dark] .colab-df-quickchart {\n",
              "      --bg-color: #3B4455;\n",
              "      --fill-color: #D2E3FC;\n",
              "      --hover-bg-color: #434B5C;\n",
              "      --hover-fill-color: #FFFFFF;\n",
              "      --disabled-bg-color: #3B4455;\n",
              "      --disabled-fill-color: #666;\n",
              "  }\n",
              "\n",
              "  .colab-df-quickchart {\n",
              "    background-color: var(--bg-color);\n",
              "    border: none;\n",
              "    border-radius: 50%;\n",
              "    cursor: pointer;\n",
              "    display: none;\n",
              "    fill: var(--fill-color);\n",
              "    height: 32px;\n",
              "    padding: 0;\n",
              "    width: 32px;\n",
              "  }\n",
              "\n",
              "  .colab-df-quickchart:hover {\n",
              "    background-color: var(--hover-bg-color);\n",
              "    box-shadow: 0 1px 2px rgba(60, 64, 67, 0.3), 0 1px 3px 1px rgba(60, 64, 67, 0.15);\n",
              "    fill: var(--button-hover-fill-color);\n",
              "  }\n",
              "\n",
              "  .colab-df-quickchart-complete:disabled,\n",
              "  .colab-df-quickchart-complete:disabled:hover {\n",
              "    background-color: var(--disabled-bg-color);\n",
              "    fill: var(--disabled-fill-color);\n",
              "    box-shadow: none;\n",
              "  }\n",
              "\n",
              "  .colab-df-spinner {\n",
              "    border: 2px solid var(--fill-color);\n",
              "    border-color: transparent;\n",
              "    border-bottom-color: var(--fill-color);\n",
              "    animation:\n",
              "      spin 1s steps(1) infinite;\n",
              "  }\n",
              "\n",
              "  @keyframes spin {\n",
              "    0% {\n",
              "      border-color: transparent;\n",
              "      border-bottom-color: var(--fill-color);\n",
              "      border-left-color: var(--fill-color);\n",
              "    }\n",
              "    20% {\n",
              "      border-color: transparent;\n",
              "      border-left-color: var(--fill-color);\n",
              "      border-top-color: var(--fill-color);\n",
              "    }\n",
              "    30% {\n",
              "      border-color: transparent;\n",
              "      border-left-color: var(--fill-color);\n",
              "      border-top-color: var(--fill-color);\n",
              "      border-right-color: var(--fill-color);\n",
              "    }\n",
              "    40% {\n",
              "      border-color: transparent;\n",
              "      border-right-color: var(--fill-color);\n",
              "      border-top-color: var(--fill-color);\n",
              "    }\n",
              "    60% {\n",
              "      border-color: transparent;\n",
              "      border-right-color: var(--fill-color);\n",
              "    }\n",
              "    80% {\n",
              "      border-color: transparent;\n",
              "      border-right-color: var(--fill-color);\n",
              "      border-bottom-color: var(--fill-color);\n",
              "    }\n",
              "    90% {\n",
              "      border-color: transparent;\n",
              "      border-bottom-color: var(--fill-color);\n",
              "    }\n",
              "  }\n",
              "</style>\n",
              "\n",
              "  <script>\n",
              "    async function quickchart(key) {\n",
              "      const quickchartButtonEl =\n",
              "        document.querySelector('#' + key + ' button');\n",
              "      quickchartButtonEl.disabled = true;  // To prevent multiple clicks.\n",
              "      quickchartButtonEl.classList.add('colab-df-spinner');\n",
              "      try {\n",
              "        const charts = await google.colab.kernel.invokeFunction(\n",
              "            'suggestCharts', [key], {});\n",
              "      } catch (error) {\n",
              "        console.error('Error during call to suggestCharts:', error);\n",
              "      }\n",
              "      quickchartButtonEl.classList.remove('colab-df-spinner');\n",
              "      quickchartButtonEl.classList.add('colab-df-quickchart-complete');\n",
              "    }\n",
              "    (() => {\n",
              "      let quickchartButtonEl =\n",
              "        document.querySelector('#df-2c6fdd34-5dc5-422e-8198-ca866563948f button');\n",
              "      quickchartButtonEl.style.display =\n",
              "        google.colab.kernel.accessAllowed ? 'block' : 'none';\n",
              "    })();\n",
              "  </script>\n",
              "</div>\n",
              "    </div>\n",
              "  </div>\n"
            ]
          },
          "metadata": {},
          "execution_count": 2
        }
      ]
    },
    {
      "cell_type": "code",
      "source": [
        "fatalities_df.head(15).T"
      ],
      "metadata": {
        "colab": {
          "base_uri": "https://localhost:8080/",
          "height": 934
        },
        "id": "Bxqk9p8kasb6",
        "outputId": "4374008d-95a0-4501-b1c1-944425ef342f"
      },
      "execution_count": 3,
      "outputs": [
        {
          "output_type": "execute_result",
          "data": {
            "text/plain": [
              "                                                                             0   \\\n",
              "name                                'Abd a-Rahman Suleiman Muhammad Abu Daghash   \n",
              "date_of_event                                                        2023-09-24   \n",
              "age                                                                        32.0   \n",
              "citizenship                                                         Palestinian   \n",
              "event_location                                                   Nur Shams R.C.   \n",
              "event_location_district                                                 Tulkarm   \n",
              "event_location_region                                                 West Bank   \n",
              "date_of_death                                                        2023-09-24   \n",
              "gender                                                                        M   \n",
              "took_part_in_the_hostilities                                                NaN   \n",
              "place_of_residence                                               Nur Shams R.C.   \n",
              "place_of_residence_district                                             Tulkarm   \n",
              "type_of_injury                                                          gunfire   \n",
              "ammunition                                                      live ammunition   \n",
              "killed_by                                               Israeli security forces   \n",
              "notes                         Fatally shot by Israeli forces while standing ...   \n",
              "\n",
              "                                                                             1   \\\n",
              "name                                       Usayed Farhan Muhammad 'Ali Abu 'Ali   \n",
              "date_of_event                                                        2023-09-24   \n",
              "age                                                                        21.0   \n",
              "citizenship                                                         Palestinian   \n",
              "event_location                                                   Nur Shams R.C.   \n",
              "event_location_district                                                 Tulkarm   \n",
              "event_location_region                                                 West Bank   \n",
              "date_of_death                                                        2023-09-24   \n",
              "gender                                                                        M   \n",
              "took_part_in_the_hostilities                                                NaN   \n",
              "place_of_residence                                               Nur Shams R.C.   \n",
              "place_of_residence_district                                             Tulkarm   \n",
              "type_of_injury                                                          gunfire   \n",
              "ammunition                                                      live ammunition   \n",
              "killed_by                                               Israeli security forces   \n",
              "notes                         Fatally shot by Israeli forces while trying to...   \n",
              "\n",
              "                                                                             2   \\\n",
              "name                                           'Abdallah 'Imad Sa'ed Abu Hassan   \n",
              "date_of_event                                                        2023-09-22   \n",
              "age                                                                        16.0   \n",
              "citizenship                                                         Palestinian   \n",
              "event_location                                                         Kfar Dan   \n",
              "event_location_district                                                   Jenin   \n",
              "event_location_region                                                 West Bank   \n",
              "date_of_death                                                        2023-09-22   \n",
              "gender                                                                        M   \n",
              "took_part_in_the_hostilities                                                NaN   \n",
              "place_of_residence                                                     al-Yamun   \n",
              "place_of_residence_district                                               Jenin   \n",
              "type_of_injury                                                          gunfire   \n",
              "ammunition                                                      live ammunition   \n",
              "killed_by                                               Israeli security forces   \n",
              "notes                         Fatally shot by soldiers while firing at them ...   \n",
              "\n",
              "                                                                             3   \\\n",
              "name                                           Durgham Muhammad Yihya al-Akhras   \n",
              "date_of_event                                                        2023-09-20   \n",
              "age                                                                        19.0   \n",
              "citizenship                                                         Palestinian   \n",
              "event_location                                                'Aqbat Jaber R.C.   \n",
              "event_location_district                                                 Jericho   \n",
              "event_location_region                                                 West Bank   \n",
              "date_of_death                                                        2023-09-20   \n",
              "gender                                                                        M   \n",
              "took_part_in_the_hostilities                                                NaN   \n",
              "place_of_residence                                            'Aqbat Jaber R.C.   \n",
              "place_of_residence_district                                             Jericho   \n",
              "type_of_injury                                                          gunfire   \n",
              "ammunition                                                      live ammunition   \n",
              "killed_by                                               Israeli security forces   \n",
              "notes                         Shot in the head by Israeli forces while throw...   \n",
              "\n",
              "                                                                             4   \\\n",
              "name                                               Raafat 'Omar Ahmad Khamaisah   \n",
              "date_of_event                                                        2023-09-19   \n",
              "age                                                                        15.0   \n",
              "citizenship                                                         Palestinian   \n",
              "event_location                                                       Jenin R.C.   \n",
              "event_location_district                                                   Jenin   \n",
              "event_location_region                                                 West Bank   \n",
              "date_of_death                                                        2023-09-19   \n",
              "gender                                                                        M   \n",
              "took_part_in_the_hostilities                                                NaN   \n",
              "place_of_residence                                                        Jenin   \n",
              "place_of_residence_district                                               Jenin   \n",
              "type_of_injury                                                          gunfire   \n",
              "ammunition                                                      live ammunition   \n",
              "killed_by                                               Israeli security forces   \n",
              "notes                         Wounded by soldiers’ gunfire after running awa...   \n",
              "\n",
              "                                                                             5   \\\n",
              "name                                                      'Ata Yasser 'Ata Musa   \n",
              "date_of_event                                                        2023-09-19   \n",
              "age                                                                        29.0   \n",
              "citizenship                                                         Palestinian   \n",
              "event_location                                                       Jenin R.C.   \n",
              "event_location_district                                                   Jenin   \n",
              "event_location_region                                                 West Bank   \n",
              "date_of_death                                                        2023-09-20   \n",
              "gender                                                                        M   \n",
              "took_part_in_the_hostilities                                                NaN   \n",
              "place_of_residence                                                        Jenin   \n",
              "place_of_residence_district                                               Jenin   \n",
              "type_of_injury                                                          gunfire   \n",
              "ammunition                                                              missile   \n",
              "killed_by                                               Israeli security forces   \n",
              "notes                         Wounded by shrapnel from a missile fired by Is...   \n",
              "\n",
              "                                                                             6   \\\n",
              "name                                                   Yusef Salem Yusef Radwan   \n",
              "date_of_event                                                        2023-09-19   \n",
              "age                                                                        24.0   \n",
              "citizenship                                                         Palestinian   \n",
              "event_location                                                        Gaza City   \n",
              "event_location_district                                                    Gaza   \n",
              "event_location_region                                                Gaza Strip   \n",
              "date_of_death                                                        2023-09-19   \n",
              "gender                                                                        M   \n",
              "took_part_in_the_hostilities                                                 No   \n",
              "place_of_residence                                                   Khan Yunis   \n",
              "place_of_residence_district                                          Khan Yunis   \n",
              "type_of_injury                                                          gunfire   \n",
              "ammunition                                                      live ammunition   \n",
              "killed_by                                               Israeli security forces   \n",
              "notes                         Fatally shot by soldiers while participating i...   \n",
              "\n",
              "                                                                             7   \\\n",
              "name                                              Mahmoud Khaled S'ud 'Ar'arawi   \n",
              "date_of_event                                                        2023-09-19   \n",
              "age                                                                        25.0   \n",
              "citizenship                                                         Palestinian   \n",
              "event_location                                                       Jenin R.C.   \n",
              "event_location_district                                                   Jenin   \n",
              "event_location_region                                                 West Bank   \n",
              "date_of_death                                                        2023-09-19   \n",
              "gender                                                                        M   \n",
              "took_part_in_the_hostilities                                                NaN   \n",
              "place_of_residence                                                   Jenin R.C.   \n",
              "place_of_residence_district                                               Jenin   \n",
              "type_of_injury                                                          gunfire   \n",
              "ammunition                                                              missile   \n",
              "killed_by                                               Israeli security forces   \n",
              "notes                         Wounded by shrapnel from a missile fired by Is...   \n",
              "\n",
              "                                                                             8   \\\n",
              "name                                                Mahmoud 'Ali Nafe'a a-S'adi   \n",
              "date_of_event                                                        2023-09-19   \n",
              "age                                                                        23.0   \n",
              "citizenship                                                         Palestinian   \n",
              "event_location                                                       Jenin R.C.   \n",
              "event_location_district                                                   Jenin   \n",
              "event_location_region                                                 West Bank   \n",
              "date_of_death                                                        2023-09-19   \n",
              "gender                                                                        M   \n",
              "took_part_in_the_hostilities                                                NaN   \n",
              "place_of_residence                                                   Jenin R.C.   \n",
              "place_of_residence_district                                               Jenin   \n",
              "type_of_injury                                                          gunfire   \n",
              "ammunition                                                              missile   \n",
              "killed_by                                               Israeli security forces   \n",
              "notes                         Wounded by shrapnel from a missile fired by Is...   \n",
              "\n",
              "                                                                             9   \\\n",
              "name                                                  Milad Munzer Wajih a-Ra'i   \n",
              "date_of_event                                                        2023-09-09   \n",
              "age                                                                        15.0   \n",
              "citizenship                                                         Palestinian   \n",
              "event_location                                                   al-'Arrub R.C.   \n",
              "event_location_district                                                  Hebron   \n",
              "event_location_region                                                 West Bank   \n",
              "date_of_death                                                        2023-09-09   \n",
              "gender                                                                        M   \n",
              "took_part_in_the_hostilities                                                NaN   \n",
              "place_of_residence                                               al-'Arrub Camp   \n",
              "place_of_residence_district                                              Hebron   \n",
              "type_of_injury                                                          gunfire   \n",
              "ammunition                                                      live ammunition   \n",
              "killed_by                                               Israeli security forces   \n",
              "notes                         Fatally shot by a soldier after throwing two M...   \n",
              "\n",
              "                                                                             10  \\\n",
              "name                                             Muhammad Yusef Isma'il Zbeidat   \n",
              "date_of_event                                                        2023-09-05   \n",
              "age                                                                        16.0   \n",
              "citizenship                                                         Palestinian   \n",
              "event_location                                                          Argaman   \n",
              "event_location_district                                                 Jericho   \n",
              "event_location_region                                                 West Bank   \n",
              "date_of_death                                                        2023-09-05   \n",
              "gender                                                                        M   \n",
              "took_part_in_the_hostilities                                                NaN   \n",
              "place_of_residence                                                    a-Zbeidat   \n",
              "place_of_residence_district                                             Jericho   \n",
              "type_of_injury                                                          gunfire   \n",
              "ammunition                                                      live ammunition   \n",
              "killed_by                                               Israeli security forces   \n",
              "notes                         Fatally shot by Border Police officers after f...   \n",
              "\n",
              "                                                                             11  \\\n",
              "name                                                'Ayed Samih Khaled Abu Harb   \n",
              "date_of_event                                                        2023-09-05   \n",
              "age                                                                        21.0   \n",
              "citizenship                                                         Palestinian   \n",
              "event_location                                                   Nur Shams R.C.   \n",
              "event_location_district                                                 Tulkarm   \n",
              "event_location_region                                                 West Bank   \n",
              "date_of_death                                                        2023-09-05   \n",
              "gender                                                                        M   \n",
              "took_part_in_the_hostilities                                                NaN   \n",
              "place_of_residence                                               Nur Shams R.C.   \n",
              "place_of_residence_district                                             Tulkarm   \n",
              "type_of_injury                                                          gunfire   \n",
              "ammunition                                                      live ammunition   \n",
              "killed_by                                               Israeli security forces   \n",
              "notes                         Fatally shot by Israeli forces that had entere...   \n",
              "\n",
              "                                                                             12  \\\n",
              "name                                            'Abd a-Rahim Fayez 'Awad Ghanam   \n",
              "date_of_event                                                        2023-09-01   \n",
              "age                                                                        45.0   \n",
              "citizenship                                                         Palestinian   \n",
              "event_location                                                         'Aqqabah   \n",
              "event_location_district                                                   Tubas   \n",
              "event_location_region                                                 West Bank   \n",
              "date_of_death                                                        2023-09-01   \n",
              "gender                                                                        M   \n",
              "took_part_in_the_hostilities                                                NaN   \n",
              "place_of_residence                                                       Aqqaba   \n",
              "place_of_residence_district                                               Tubas   \n",
              "type_of_injury                                                          gunfire   \n",
              "ammunition                                                      live ammunition   \n",
              "killed_by                                               Israeli security forces   \n",
              "notes                         Fatally shot by Israeli forces who were surrou...   \n",
              "\n",
              "                                                                             13  \\\n",
              "name                                            Dawood 'Abd a-Razeq Fayez Fayez   \n",
              "date_of_event                                                        2023-08-31   \n",
              "age                                                                        41.0   \n",
              "citizenship                                                         Palestinian   \n",
              "event_location                                                        Beit Sira   \n",
              "event_location_district                                    Ramallah and al-Bira   \n",
              "event_location_region                                                 West Bank   \n",
              "date_of_death                                                        2023-08-31   \n",
              "gender                                                                        M   \n",
              "took_part_in_the_hostilities                                                NaN   \n",
              "place_of_residence                                              Deir Ammar Camp   \n",
              "place_of_residence_district                                Ramallah and al-Bira   \n",
              "type_of_injury                                                          gunfire   \n",
              "ammunition                                                      live ammunition   \n",
              "killed_by                                               Israeli security forces   \n",
              "notes                         Fatally shot by security guards after running ...   \n",
              "\n",
              "                                                                             14  \n",
              "name                                                Khaled Samer Fadel a-Z'anin  \n",
              "date_of_event                                                        2023-08-30  \n",
              "age                                                                        14.0  \n",
              "citizenship                                                         Palestinian  \n",
              "event_location                                                      al-Musrarah  \n",
              "event_location_district                                          East Jerusalem  \n",
              "event_location_region                                                 West Bank  \n",
              "date_of_death                                                        2023-08-30  \n",
              "gender                                                                        M  \n",
              "took_part_in_the_hostilities                                                NaN  \n",
              "place_of_residence                                                  Beit Hanina  \n",
              "place_of_residence_district                                      East Jerusalem  \n",
              "type_of_injury                                                         stabbing  \n",
              "ammunition                                                      live ammunition  \n",
              "killed_by                                               Israeli security forces  \n",
              "notes                         Fatally shot by a Border Police officer after,...  "
            ],
            "text/html": [
              "\n",
              "  <div id=\"df-5b986352-0804-4967-8fb4-66592476cbae\" class=\"colab-df-container\">\n",
              "    <div>\n",
              "<style scoped>\n",
              "    .dataframe tbody tr th:only-of-type {\n",
              "        vertical-align: middle;\n",
              "    }\n",
              "\n",
              "    .dataframe tbody tr th {\n",
              "        vertical-align: top;\n",
              "    }\n",
              "\n",
              "    .dataframe thead th {\n",
              "        text-align: right;\n",
              "    }\n",
              "</style>\n",
              "<table border=\"1\" class=\"dataframe\">\n",
              "  <thead>\n",
              "    <tr style=\"text-align: right;\">\n",
              "      <th></th>\n",
              "      <th>0</th>\n",
              "      <th>1</th>\n",
              "      <th>2</th>\n",
              "      <th>3</th>\n",
              "      <th>4</th>\n",
              "      <th>5</th>\n",
              "      <th>6</th>\n",
              "      <th>7</th>\n",
              "      <th>8</th>\n",
              "      <th>9</th>\n",
              "      <th>10</th>\n",
              "      <th>11</th>\n",
              "      <th>12</th>\n",
              "      <th>13</th>\n",
              "      <th>14</th>\n",
              "    </tr>\n",
              "  </thead>\n",
              "  <tbody>\n",
              "    <tr>\n",
              "      <th>name</th>\n",
              "      <td>'Abd a-Rahman Suleiman Muhammad Abu Daghash</td>\n",
              "      <td>Usayed Farhan Muhammad 'Ali Abu 'Ali</td>\n",
              "      <td>'Abdallah 'Imad Sa'ed Abu Hassan</td>\n",
              "      <td>Durgham Muhammad Yihya al-Akhras</td>\n",
              "      <td>Raafat 'Omar Ahmad Khamaisah</td>\n",
              "      <td>'Ata Yasser 'Ata Musa</td>\n",
              "      <td>Yusef Salem Yusef Radwan</td>\n",
              "      <td>Mahmoud Khaled S'ud 'Ar'arawi</td>\n",
              "      <td>Mahmoud 'Ali Nafe'a a-S'adi</td>\n",
              "      <td>Milad Munzer Wajih a-Ra'i</td>\n",
              "      <td>Muhammad Yusef Isma'il Zbeidat</td>\n",
              "      <td>'Ayed Samih Khaled Abu Harb</td>\n",
              "      <td>'Abd a-Rahim Fayez 'Awad Ghanam</td>\n",
              "      <td>Dawood 'Abd a-Razeq Fayez Fayez</td>\n",
              "      <td>Khaled Samer Fadel a-Z'anin</td>\n",
              "    </tr>\n",
              "    <tr>\n",
              "      <th>date_of_event</th>\n",
              "      <td>2023-09-24</td>\n",
              "      <td>2023-09-24</td>\n",
              "      <td>2023-09-22</td>\n",
              "      <td>2023-09-20</td>\n",
              "      <td>2023-09-19</td>\n",
              "      <td>2023-09-19</td>\n",
              "      <td>2023-09-19</td>\n",
              "      <td>2023-09-19</td>\n",
              "      <td>2023-09-19</td>\n",
              "      <td>2023-09-09</td>\n",
              "      <td>2023-09-05</td>\n",
              "      <td>2023-09-05</td>\n",
              "      <td>2023-09-01</td>\n",
              "      <td>2023-08-31</td>\n",
              "      <td>2023-08-30</td>\n",
              "    </tr>\n",
              "    <tr>\n",
              "      <th>age</th>\n",
              "      <td>32.0</td>\n",
              "      <td>21.0</td>\n",
              "      <td>16.0</td>\n",
              "      <td>19.0</td>\n",
              "      <td>15.0</td>\n",
              "      <td>29.0</td>\n",
              "      <td>24.0</td>\n",
              "      <td>25.0</td>\n",
              "      <td>23.0</td>\n",
              "      <td>15.0</td>\n",
              "      <td>16.0</td>\n",
              "      <td>21.0</td>\n",
              "      <td>45.0</td>\n",
              "      <td>41.0</td>\n",
              "      <td>14.0</td>\n",
              "    </tr>\n",
              "    <tr>\n",
              "      <th>citizenship</th>\n",
              "      <td>Palestinian</td>\n",
              "      <td>Palestinian</td>\n",
              "      <td>Palestinian</td>\n",
              "      <td>Palestinian</td>\n",
              "      <td>Palestinian</td>\n",
              "      <td>Palestinian</td>\n",
              "      <td>Palestinian</td>\n",
              "      <td>Palestinian</td>\n",
              "      <td>Palestinian</td>\n",
              "      <td>Palestinian</td>\n",
              "      <td>Palestinian</td>\n",
              "      <td>Palestinian</td>\n",
              "      <td>Palestinian</td>\n",
              "      <td>Palestinian</td>\n",
              "      <td>Palestinian</td>\n",
              "    </tr>\n",
              "    <tr>\n",
              "      <th>event_location</th>\n",
              "      <td>Nur Shams R.C.</td>\n",
              "      <td>Nur Shams R.C.</td>\n",
              "      <td>Kfar Dan</td>\n",
              "      <td>'Aqbat Jaber R.C.</td>\n",
              "      <td>Jenin R.C.</td>\n",
              "      <td>Jenin R.C.</td>\n",
              "      <td>Gaza City</td>\n",
              "      <td>Jenin R.C.</td>\n",
              "      <td>Jenin R.C.</td>\n",
              "      <td>al-'Arrub R.C.</td>\n",
              "      <td>Argaman</td>\n",
              "      <td>Nur Shams R.C.</td>\n",
              "      <td>'Aqqabah</td>\n",
              "      <td>Beit Sira</td>\n",
              "      <td>al-Musrarah</td>\n",
              "    </tr>\n",
              "    <tr>\n",
              "      <th>event_location_district</th>\n",
              "      <td>Tulkarm</td>\n",
              "      <td>Tulkarm</td>\n",
              "      <td>Jenin</td>\n",
              "      <td>Jericho</td>\n",
              "      <td>Jenin</td>\n",
              "      <td>Jenin</td>\n",
              "      <td>Gaza</td>\n",
              "      <td>Jenin</td>\n",
              "      <td>Jenin</td>\n",
              "      <td>Hebron</td>\n",
              "      <td>Jericho</td>\n",
              "      <td>Tulkarm</td>\n",
              "      <td>Tubas</td>\n",
              "      <td>Ramallah and al-Bira</td>\n",
              "      <td>East Jerusalem</td>\n",
              "    </tr>\n",
              "    <tr>\n",
              "      <th>event_location_region</th>\n",
              "      <td>West Bank</td>\n",
              "      <td>West Bank</td>\n",
              "      <td>West Bank</td>\n",
              "      <td>West Bank</td>\n",
              "      <td>West Bank</td>\n",
              "      <td>West Bank</td>\n",
              "      <td>Gaza Strip</td>\n",
              "      <td>West Bank</td>\n",
              "      <td>West Bank</td>\n",
              "      <td>West Bank</td>\n",
              "      <td>West Bank</td>\n",
              "      <td>West Bank</td>\n",
              "      <td>West Bank</td>\n",
              "      <td>West Bank</td>\n",
              "      <td>West Bank</td>\n",
              "    </tr>\n",
              "    <tr>\n",
              "      <th>date_of_death</th>\n",
              "      <td>2023-09-24</td>\n",
              "      <td>2023-09-24</td>\n",
              "      <td>2023-09-22</td>\n",
              "      <td>2023-09-20</td>\n",
              "      <td>2023-09-19</td>\n",
              "      <td>2023-09-20</td>\n",
              "      <td>2023-09-19</td>\n",
              "      <td>2023-09-19</td>\n",
              "      <td>2023-09-19</td>\n",
              "      <td>2023-09-09</td>\n",
              "      <td>2023-09-05</td>\n",
              "      <td>2023-09-05</td>\n",
              "      <td>2023-09-01</td>\n",
              "      <td>2023-08-31</td>\n",
              "      <td>2023-08-30</td>\n",
              "    </tr>\n",
              "    <tr>\n",
              "      <th>gender</th>\n",
              "      <td>M</td>\n",
              "      <td>M</td>\n",
              "      <td>M</td>\n",
              "      <td>M</td>\n",
              "      <td>M</td>\n",
              "      <td>M</td>\n",
              "      <td>M</td>\n",
              "      <td>M</td>\n",
              "      <td>M</td>\n",
              "      <td>M</td>\n",
              "      <td>M</td>\n",
              "      <td>M</td>\n",
              "      <td>M</td>\n",
              "      <td>M</td>\n",
              "      <td>M</td>\n",
              "    </tr>\n",
              "    <tr>\n",
              "      <th>took_part_in_the_hostilities</th>\n",
              "      <td>NaN</td>\n",
              "      <td>NaN</td>\n",
              "      <td>NaN</td>\n",
              "      <td>NaN</td>\n",
              "      <td>NaN</td>\n",
              "      <td>NaN</td>\n",
              "      <td>No</td>\n",
              "      <td>NaN</td>\n",
              "      <td>NaN</td>\n",
              "      <td>NaN</td>\n",
              "      <td>NaN</td>\n",
              "      <td>NaN</td>\n",
              "      <td>NaN</td>\n",
              "      <td>NaN</td>\n",
              "      <td>NaN</td>\n",
              "    </tr>\n",
              "    <tr>\n",
              "      <th>place_of_residence</th>\n",
              "      <td>Nur Shams R.C.</td>\n",
              "      <td>Nur Shams R.C.</td>\n",
              "      <td>al-Yamun</td>\n",
              "      <td>'Aqbat Jaber R.C.</td>\n",
              "      <td>Jenin</td>\n",
              "      <td>Jenin</td>\n",
              "      <td>Khan Yunis</td>\n",
              "      <td>Jenin R.C.</td>\n",
              "      <td>Jenin R.C.</td>\n",
              "      <td>al-'Arrub Camp</td>\n",
              "      <td>a-Zbeidat</td>\n",
              "      <td>Nur Shams R.C.</td>\n",
              "      <td>Aqqaba</td>\n",
              "      <td>Deir Ammar Camp</td>\n",
              "      <td>Beit Hanina</td>\n",
              "    </tr>\n",
              "    <tr>\n",
              "      <th>place_of_residence_district</th>\n",
              "      <td>Tulkarm</td>\n",
              "      <td>Tulkarm</td>\n",
              "      <td>Jenin</td>\n",
              "      <td>Jericho</td>\n",
              "      <td>Jenin</td>\n",
              "      <td>Jenin</td>\n",
              "      <td>Khan Yunis</td>\n",
              "      <td>Jenin</td>\n",
              "      <td>Jenin</td>\n",
              "      <td>Hebron</td>\n",
              "      <td>Jericho</td>\n",
              "      <td>Tulkarm</td>\n",
              "      <td>Tubas</td>\n",
              "      <td>Ramallah and al-Bira</td>\n",
              "      <td>East Jerusalem</td>\n",
              "    </tr>\n",
              "    <tr>\n",
              "      <th>type_of_injury</th>\n",
              "      <td>gunfire</td>\n",
              "      <td>gunfire</td>\n",
              "      <td>gunfire</td>\n",
              "      <td>gunfire</td>\n",
              "      <td>gunfire</td>\n",
              "      <td>gunfire</td>\n",
              "      <td>gunfire</td>\n",
              "      <td>gunfire</td>\n",
              "      <td>gunfire</td>\n",
              "      <td>gunfire</td>\n",
              "      <td>gunfire</td>\n",
              "      <td>gunfire</td>\n",
              "      <td>gunfire</td>\n",
              "      <td>gunfire</td>\n",
              "      <td>stabbing</td>\n",
              "    </tr>\n",
              "    <tr>\n",
              "      <th>ammunition</th>\n",
              "      <td>live ammunition</td>\n",
              "      <td>live ammunition</td>\n",
              "      <td>live ammunition</td>\n",
              "      <td>live ammunition</td>\n",
              "      <td>live ammunition</td>\n",
              "      <td>missile</td>\n",
              "      <td>live ammunition</td>\n",
              "      <td>missile</td>\n",
              "      <td>missile</td>\n",
              "      <td>live ammunition</td>\n",
              "      <td>live ammunition</td>\n",
              "      <td>live ammunition</td>\n",
              "      <td>live ammunition</td>\n",
              "      <td>live ammunition</td>\n",
              "      <td>live ammunition</td>\n",
              "    </tr>\n",
              "    <tr>\n",
              "      <th>killed_by</th>\n",
              "      <td>Israeli security forces</td>\n",
              "      <td>Israeli security forces</td>\n",
              "      <td>Israeli security forces</td>\n",
              "      <td>Israeli security forces</td>\n",
              "      <td>Israeli security forces</td>\n",
              "      <td>Israeli security forces</td>\n",
              "      <td>Israeli security forces</td>\n",
              "      <td>Israeli security forces</td>\n",
              "      <td>Israeli security forces</td>\n",
              "      <td>Israeli security forces</td>\n",
              "      <td>Israeli security forces</td>\n",
              "      <td>Israeli security forces</td>\n",
              "      <td>Israeli security forces</td>\n",
              "      <td>Israeli security forces</td>\n",
              "      <td>Israeli security forces</td>\n",
              "    </tr>\n",
              "    <tr>\n",
              "      <th>notes</th>\n",
              "      <td>Fatally shot by Israeli forces while standing ...</td>\n",
              "      <td>Fatally shot by Israeli forces while trying to...</td>\n",
              "      <td>Fatally shot by soldiers while firing at them ...</td>\n",
              "      <td>Shot in the head by Israeli forces while throw...</td>\n",
              "      <td>Wounded by soldiers’ gunfire after running awa...</td>\n",
              "      <td>Wounded by shrapnel from a missile fired by Is...</td>\n",
              "      <td>Fatally shot by soldiers while participating i...</td>\n",
              "      <td>Wounded by shrapnel from a missile fired by Is...</td>\n",
              "      <td>Wounded by shrapnel from a missile fired by Is...</td>\n",
              "      <td>Fatally shot by a soldier after throwing two M...</td>\n",
              "      <td>Fatally shot by Border Police officers after f...</td>\n",
              "      <td>Fatally shot by Israeli forces that had entere...</td>\n",
              "      <td>Fatally shot by Israeli forces who were surrou...</td>\n",
              "      <td>Fatally shot by security guards after running ...</td>\n",
              "      <td>Fatally shot by a Border Police officer after,...</td>\n",
              "    </tr>\n",
              "  </tbody>\n",
              "</table>\n",
              "</div>\n",
              "    <div class=\"colab-df-buttons\">\n",
              "\n",
              "  <div class=\"colab-df-container\">\n",
              "    <button class=\"colab-df-convert\" onclick=\"convertToInteractive('df-5b986352-0804-4967-8fb4-66592476cbae')\"\n",
              "            title=\"Convert this dataframe to an interactive table.\"\n",
              "            style=\"display:none;\">\n",
              "\n",
              "  <svg xmlns=\"http://www.w3.org/2000/svg\" height=\"24px\" viewBox=\"0 -960 960 960\">\n",
              "    <path d=\"M120-120v-720h720v720H120Zm60-500h600v-160H180v160Zm220 220h160v-160H400v160Zm0 220h160v-160H400v160ZM180-400h160v-160H180v160Zm440 0h160v-160H620v160ZM180-180h160v-160H180v160Zm440 0h160v-160H620v160Z\"/>\n",
              "  </svg>\n",
              "    </button>\n",
              "\n",
              "  <style>\n",
              "    .colab-df-container {\n",
              "      display:flex;\n",
              "      gap: 12px;\n",
              "    }\n",
              "\n",
              "    .colab-df-convert {\n",
              "      background-color: #E8F0FE;\n",
              "      border: none;\n",
              "      border-radius: 50%;\n",
              "      cursor: pointer;\n",
              "      display: none;\n",
              "      fill: #1967D2;\n",
              "      height: 32px;\n",
              "      padding: 0 0 0 0;\n",
              "      width: 32px;\n",
              "    }\n",
              "\n",
              "    .colab-df-convert:hover {\n",
              "      background-color: #E2EBFA;\n",
              "      box-shadow: 0px 1px 2px rgba(60, 64, 67, 0.3), 0px 1px 3px 1px rgba(60, 64, 67, 0.15);\n",
              "      fill: #174EA6;\n",
              "    }\n",
              "\n",
              "    .colab-df-buttons div {\n",
              "      margin-bottom: 4px;\n",
              "    }\n",
              "\n",
              "    [theme=dark] .colab-df-convert {\n",
              "      background-color: #3B4455;\n",
              "      fill: #D2E3FC;\n",
              "    }\n",
              "\n",
              "    [theme=dark] .colab-df-convert:hover {\n",
              "      background-color: #434B5C;\n",
              "      box-shadow: 0px 1px 3px 1px rgba(0, 0, 0, 0.15);\n",
              "      filter: drop-shadow(0px 1px 2px rgba(0, 0, 0, 0.3));\n",
              "      fill: #FFFFFF;\n",
              "    }\n",
              "  </style>\n",
              "\n",
              "    <script>\n",
              "      const buttonEl =\n",
              "        document.querySelector('#df-5b986352-0804-4967-8fb4-66592476cbae button.colab-df-convert');\n",
              "      buttonEl.style.display =\n",
              "        google.colab.kernel.accessAllowed ? 'block' : 'none';\n",
              "\n",
              "      async function convertToInteractive(key) {\n",
              "        const element = document.querySelector('#df-5b986352-0804-4967-8fb4-66592476cbae');\n",
              "        const dataTable =\n",
              "          await google.colab.kernel.invokeFunction('convertToInteractive',\n",
              "                                                    [key], {});\n",
              "        if (!dataTable) return;\n",
              "\n",
              "        const docLinkHtml = 'Like what you see? Visit the ' +\n",
              "          '<a target=\"_blank\" href=https://colab.research.google.com/notebooks/data_table.ipynb>data table notebook</a>'\n",
              "          + ' to learn more about interactive tables.';\n",
              "        element.innerHTML = '';\n",
              "        dataTable['output_type'] = 'display_data';\n",
              "        await google.colab.output.renderOutput(dataTable, element);\n",
              "        const docLink = document.createElement('div');\n",
              "        docLink.innerHTML = docLinkHtml;\n",
              "        element.appendChild(docLink);\n",
              "      }\n",
              "    </script>\n",
              "  </div>\n",
              "\n",
              "\n",
              "<div id=\"df-da06dcce-e92f-4e4f-bec1-65d916aa4116\">\n",
              "  <button class=\"colab-df-quickchart\" onclick=\"quickchart('df-da06dcce-e92f-4e4f-bec1-65d916aa4116')\"\n",
              "            title=\"Suggest charts\"\n",
              "            style=\"display:none;\">\n",
              "\n",
              "<svg xmlns=\"http://www.w3.org/2000/svg\" height=\"24px\"viewBox=\"0 0 24 24\"\n",
              "     width=\"24px\">\n",
              "    <g>\n",
              "        <path d=\"M19 3H5c-1.1 0-2 .9-2 2v14c0 1.1.9 2 2 2h14c1.1 0 2-.9 2-2V5c0-1.1-.9-2-2-2zM9 17H7v-7h2v7zm4 0h-2V7h2v10zm4 0h-2v-4h2v4z\"/>\n",
              "    </g>\n",
              "</svg>\n",
              "  </button>\n",
              "\n",
              "<style>\n",
              "  .colab-df-quickchart {\n",
              "      --bg-color: #E8F0FE;\n",
              "      --fill-color: #1967D2;\n",
              "      --hover-bg-color: #E2EBFA;\n",
              "      --hover-fill-color: #174EA6;\n",
              "      --disabled-fill-color: #AAA;\n",
              "      --disabled-bg-color: #DDD;\n",
              "  }\n",
              "\n",
              "  [theme=dark] .colab-df-quickchart {\n",
              "      --bg-color: #3B4455;\n",
              "      --fill-color: #D2E3FC;\n",
              "      --hover-bg-color: #434B5C;\n",
              "      --hover-fill-color: #FFFFFF;\n",
              "      --disabled-bg-color: #3B4455;\n",
              "      --disabled-fill-color: #666;\n",
              "  }\n",
              "\n",
              "  .colab-df-quickchart {\n",
              "    background-color: var(--bg-color);\n",
              "    border: none;\n",
              "    border-radius: 50%;\n",
              "    cursor: pointer;\n",
              "    display: none;\n",
              "    fill: var(--fill-color);\n",
              "    height: 32px;\n",
              "    padding: 0;\n",
              "    width: 32px;\n",
              "  }\n",
              "\n",
              "  .colab-df-quickchart:hover {\n",
              "    background-color: var(--hover-bg-color);\n",
              "    box-shadow: 0 1px 2px rgba(60, 64, 67, 0.3), 0 1px 3px 1px rgba(60, 64, 67, 0.15);\n",
              "    fill: var(--button-hover-fill-color);\n",
              "  }\n",
              "\n",
              "  .colab-df-quickchart-complete:disabled,\n",
              "  .colab-df-quickchart-complete:disabled:hover {\n",
              "    background-color: var(--disabled-bg-color);\n",
              "    fill: var(--disabled-fill-color);\n",
              "    box-shadow: none;\n",
              "  }\n",
              "\n",
              "  .colab-df-spinner {\n",
              "    border: 2px solid var(--fill-color);\n",
              "    border-color: transparent;\n",
              "    border-bottom-color: var(--fill-color);\n",
              "    animation:\n",
              "      spin 1s steps(1) infinite;\n",
              "  }\n",
              "\n",
              "  @keyframes spin {\n",
              "    0% {\n",
              "      border-color: transparent;\n",
              "      border-bottom-color: var(--fill-color);\n",
              "      border-left-color: var(--fill-color);\n",
              "    }\n",
              "    20% {\n",
              "      border-color: transparent;\n",
              "      border-left-color: var(--fill-color);\n",
              "      border-top-color: var(--fill-color);\n",
              "    }\n",
              "    30% {\n",
              "      border-color: transparent;\n",
              "      border-left-color: var(--fill-color);\n",
              "      border-top-color: var(--fill-color);\n",
              "      border-right-color: var(--fill-color);\n",
              "    }\n",
              "    40% {\n",
              "      border-color: transparent;\n",
              "      border-right-color: var(--fill-color);\n",
              "      border-top-color: var(--fill-color);\n",
              "    }\n",
              "    60% {\n",
              "      border-color: transparent;\n",
              "      border-right-color: var(--fill-color);\n",
              "    }\n",
              "    80% {\n",
              "      border-color: transparent;\n",
              "      border-right-color: var(--fill-color);\n",
              "      border-bottom-color: var(--fill-color);\n",
              "    }\n",
              "    90% {\n",
              "      border-color: transparent;\n",
              "      border-bottom-color: var(--fill-color);\n",
              "    }\n",
              "  }\n",
              "</style>\n",
              "\n",
              "  <script>\n",
              "    async function quickchart(key) {\n",
              "      const quickchartButtonEl =\n",
              "        document.querySelector('#' + key + ' button');\n",
              "      quickchartButtonEl.disabled = true;  // To prevent multiple clicks.\n",
              "      quickchartButtonEl.classList.add('colab-df-spinner');\n",
              "      try {\n",
              "        const charts = await google.colab.kernel.invokeFunction(\n",
              "            'suggestCharts', [key], {});\n",
              "      } catch (error) {\n",
              "        console.error('Error during call to suggestCharts:', error);\n",
              "      }\n",
              "      quickchartButtonEl.classList.remove('colab-df-spinner');\n",
              "      quickchartButtonEl.classList.add('colab-df-quickchart-complete');\n",
              "    }\n",
              "    (() => {\n",
              "      let quickchartButtonEl =\n",
              "        document.querySelector('#df-da06dcce-e92f-4e4f-bec1-65d916aa4116 button');\n",
              "      quickchartButtonEl.style.display =\n",
              "        google.colab.kernel.accessAllowed ? 'block' : 'none';\n",
              "    })();\n",
              "  </script>\n",
              "</div>\n",
              "    </div>\n",
              "  </div>\n"
            ]
          },
          "metadata": {},
          "execution_count": 3
        }
      ]
    },
    {
      "cell_type": "markdown",
      "source": [
        "the following dataset has only one float variable (age) while all others are objects."
      ],
      "metadata": {
        "id": "GBP4_Hk0Zhw-"
      }
    },
    {
      "cell_type": "code",
      "source": [
        "fatalities_df.info()"
      ],
      "metadata": {
        "colab": {
          "base_uri": "https://localhost:8080/"
        },
        "id": "Od0iWQSgPOuP",
        "outputId": "70c37dc5-e36d-4abe-d13b-4ae25c642324"
      },
      "execution_count": 4,
      "outputs": [
        {
          "output_type": "stream",
          "name": "stdout",
          "text": [
            "<class 'pandas.core.frame.DataFrame'>\n",
            "RangeIndex: 11124 entries, 0 to 11123\n",
            "Data columns (total 16 columns):\n",
            " #   Column                        Non-Null Count  Dtype  \n",
            "---  ------                        --------------  -----  \n",
            " 0   name                          11124 non-null  object \n",
            " 1   date_of_event                 11124 non-null  object \n",
            " 2   age                           10995 non-null  float64\n",
            " 3   citizenship                   11124 non-null  object \n",
            " 4   event_location                11124 non-null  object \n",
            " 5   event_location_district       11124 non-null  object \n",
            " 6   event_location_region         11124 non-null  object \n",
            " 7   date_of_death                 11124 non-null  object \n",
            " 8   gender                        11104 non-null  object \n",
            " 9   took_part_in_the_hostilities  9694 non-null   object \n",
            " 10  place_of_residence            11056 non-null  object \n",
            " 11  place_of_residence_district   11056 non-null  object \n",
            " 12  type_of_injury                10833 non-null  object \n",
            " 13  ammunition                    5871 non-null   object \n",
            " 14  killed_by                     11124 non-null  object \n",
            " 15  notes                         10844 non-null  object \n",
            "dtypes: float64(1), object(15)\n",
            "memory usage: 1.4+ MB\n"
          ]
        }
      ]
    },
    {
      "cell_type": "markdown",
      "source": [
        "observing the size of the dataset allows one to know which variables have excessive null values."
      ],
      "metadata": {
        "id": "viu8clLQZnRg"
      }
    },
    {
      "cell_type": "code",
      "source": [
        "fatalities_df.shape"
      ],
      "metadata": {
        "colab": {
          "base_uri": "https://localhost:8080/"
        },
        "id": "e5RKX2rbPVtF",
        "outputId": "cfdb101b-6087-4e3d-8a7a-515621b7f760"
      },
      "execution_count": 5,
      "outputs": [
        {
          "output_type": "execute_result",
          "data": {
            "text/plain": [
              "(11124, 16)"
            ]
          },
          "metadata": {},
          "execution_count": 5
        }
      ]
    },
    {
      "cell_type": "code",
      "source": [
        "fatalities_df.describe().T"
      ],
      "metadata": {
        "colab": {
          "base_uri": "https://localhost:8080/",
          "height": 81
        },
        "id": "Qq-9EJ5sQXPI",
        "outputId": "4a2d5afe-a0f7-4a64-bcb6-922fb0e5ac18"
      },
      "execution_count": 6,
      "outputs": [
        {
          "output_type": "execute_result",
          "data": {
            "text/plain": [
              "       count       mean        std  min   25%   50%   75%    max\n",
              "age  10995.0  26.745703  13.780548  1.0  19.0  23.0  31.0  112.0"
            ],
            "text/html": [
              "\n",
              "  <div id=\"df-9bf959b2-d0b0-400c-80df-04bd078e492a\" class=\"colab-df-container\">\n",
              "    <div>\n",
              "<style scoped>\n",
              "    .dataframe tbody tr th:only-of-type {\n",
              "        vertical-align: middle;\n",
              "    }\n",
              "\n",
              "    .dataframe tbody tr th {\n",
              "        vertical-align: top;\n",
              "    }\n",
              "\n",
              "    .dataframe thead th {\n",
              "        text-align: right;\n",
              "    }\n",
              "</style>\n",
              "<table border=\"1\" class=\"dataframe\">\n",
              "  <thead>\n",
              "    <tr style=\"text-align: right;\">\n",
              "      <th></th>\n",
              "      <th>count</th>\n",
              "      <th>mean</th>\n",
              "      <th>std</th>\n",
              "      <th>min</th>\n",
              "      <th>25%</th>\n",
              "      <th>50%</th>\n",
              "      <th>75%</th>\n",
              "      <th>max</th>\n",
              "    </tr>\n",
              "  </thead>\n",
              "  <tbody>\n",
              "    <tr>\n",
              "      <th>age</th>\n",
              "      <td>10995.0</td>\n",
              "      <td>26.745703</td>\n",
              "      <td>13.780548</td>\n",
              "      <td>1.0</td>\n",
              "      <td>19.0</td>\n",
              "      <td>23.0</td>\n",
              "      <td>31.0</td>\n",
              "      <td>112.0</td>\n",
              "    </tr>\n",
              "  </tbody>\n",
              "</table>\n",
              "</div>\n",
              "    <div class=\"colab-df-buttons\">\n",
              "\n",
              "  <div class=\"colab-df-container\">\n",
              "    <button class=\"colab-df-convert\" onclick=\"convertToInteractive('df-9bf959b2-d0b0-400c-80df-04bd078e492a')\"\n",
              "            title=\"Convert this dataframe to an interactive table.\"\n",
              "            style=\"display:none;\">\n",
              "\n",
              "  <svg xmlns=\"http://www.w3.org/2000/svg\" height=\"24px\" viewBox=\"0 -960 960 960\">\n",
              "    <path d=\"M120-120v-720h720v720H120Zm60-500h600v-160H180v160Zm220 220h160v-160H400v160Zm0 220h160v-160H400v160ZM180-400h160v-160H180v160Zm440 0h160v-160H620v160ZM180-180h160v-160H180v160Zm440 0h160v-160H620v160Z\"/>\n",
              "  </svg>\n",
              "    </button>\n",
              "\n",
              "  <style>\n",
              "    .colab-df-container {\n",
              "      display:flex;\n",
              "      gap: 12px;\n",
              "    }\n",
              "\n",
              "    .colab-df-convert {\n",
              "      background-color: #E8F0FE;\n",
              "      border: none;\n",
              "      border-radius: 50%;\n",
              "      cursor: pointer;\n",
              "      display: none;\n",
              "      fill: #1967D2;\n",
              "      height: 32px;\n",
              "      padding: 0 0 0 0;\n",
              "      width: 32px;\n",
              "    }\n",
              "\n",
              "    .colab-df-convert:hover {\n",
              "      background-color: #E2EBFA;\n",
              "      box-shadow: 0px 1px 2px rgba(60, 64, 67, 0.3), 0px 1px 3px 1px rgba(60, 64, 67, 0.15);\n",
              "      fill: #174EA6;\n",
              "    }\n",
              "\n",
              "    .colab-df-buttons div {\n",
              "      margin-bottom: 4px;\n",
              "    }\n",
              "\n",
              "    [theme=dark] .colab-df-convert {\n",
              "      background-color: #3B4455;\n",
              "      fill: #D2E3FC;\n",
              "    }\n",
              "\n",
              "    [theme=dark] .colab-df-convert:hover {\n",
              "      background-color: #434B5C;\n",
              "      box-shadow: 0px 1px 3px 1px rgba(0, 0, 0, 0.15);\n",
              "      filter: drop-shadow(0px 1px 2px rgba(0, 0, 0, 0.3));\n",
              "      fill: #FFFFFF;\n",
              "    }\n",
              "  </style>\n",
              "\n",
              "    <script>\n",
              "      const buttonEl =\n",
              "        document.querySelector('#df-9bf959b2-d0b0-400c-80df-04bd078e492a button.colab-df-convert');\n",
              "      buttonEl.style.display =\n",
              "        google.colab.kernel.accessAllowed ? 'block' : 'none';\n",
              "\n",
              "      async function convertToInteractive(key) {\n",
              "        const element = document.querySelector('#df-9bf959b2-d0b0-400c-80df-04bd078e492a');\n",
              "        const dataTable =\n",
              "          await google.colab.kernel.invokeFunction('convertToInteractive',\n",
              "                                                    [key], {});\n",
              "        if (!dataTable) return;\n",
              "\n",
              "        const docLinkHtml = 'Like what you see? Visit the ' +\n",
              "          '<a target=\"_blank\" href=https://colab.research.google.com/notebooks/data_table.ipynb>data table notebook</a>'\n",
              "          + ' to learn more about interactive tables.';\n",
              "        element.innerHTML = '';\n",
              "        dataTable['output_type'] = 'display_data';\n",
              "        await google.colab.output.renderOutput(dataTable, element);\n",
              "        const docLink = document.createElement('div');\n",
              "        docLink.innerHTML = docLinkHtml;\n",
              "        element.appendChild(docLink);\n",
              "      }\n",
              "    </script>\n",
              "  </div>\n",
              "\n",
              "    </div>\n",
              "  </div>\n"
            ]
          },
          "metadata": {},
          "execution_count": 6
        }
      ]
    },
    {
      "cell_type": "markdown",
      "source": [
        "## Check NA values"
      ],
      "metadata": {
        "id": "Qpgg00e3Zzm7"
      }
    },
    {
      "cell_type": "markdown",
      "source": [
        "in this case, the choice to remove rows with null values is wrong, since since since most of them are descriptive values, they do not affect the data statistically but only add information"
      ],
      "metadata": {
        "id": "cu1jmrQXZ6Mu"
      }
    },
    {
      "cell_type": "code",
      "source": [
        "print(sum(fatalities_df.isna().sum()))\n",
        "print(fatalities_df.duplicated().sum())"
      ],
      "metadata": {
        "colab": {
          "base_uri": "https://localhost:8080/"
        },
        "id": "prNqe73eTnX8",
        "outputId": "1aecfaf4-5459-42b9-cabb-ede35f929593"
      },
      "execution_count": 7,
      "outputs": [
        {
          "output_type": "stream",
          "name": "stdout",
          "text": [
            "7539\n",
            "7\n"
          ]
        }
      ]
    },
    {
      "cell_type": "code",
      "source": [
        "fatalities_df.isna().sum()"
      ],
      "metadata": {
        "colab": {
          "base_uri": "https://localhost:8080/"
        },
        "id": "F1w806_8a_FT",
        "outputId": "3a53507e-3bc2-440f-ed1e-6f92ad25da23"
      },
      "execution_count": 8,
      "outputs": [
        {
          "output_type": "execute_result",
          "data": {
            "text/plain": [
              "name                               0\n",
              "date_of_event                      0\n",
              "age                              129\n",
              "citizenship                        0\n",
              "event_location                     0\n",
              "event_location_district            0\n",
              "event_location_region              0\n",
              "date_of_death                      0\n",
              "gender                            20\n",
              "took_part_in_the_hostilities    1430\n",
              "place_of_residence                68\n",
              "place_of_residence_district       68\n",
              "type_of_injury                   291\n",
              "ammunition                      5253\n",
              "killed_by                          0\n",
              "notes                            280\n",
              "dtype: int64"
            ]
          },
          "metadata": {},
          "execution_count": 8
        }
      ]
    },
    {
      "cell_type": "markdown",
      "source": [
        "let's check the percentage about this informations"
      ],
      "metadata": {
        "id": "E6MtCL3gcJke"
      }
    },
    {
      "cell_type": "code",
      "source": [
        "print(f\"percentage of age NA value: \\t{(fatalities_df['age'].isna().sum()/len(fatalities_df))*100:.2f}%\")\n",
        "print(f\"percentage of gender NA value: \\t{(fatalities_df['gender'].isna().sum()/len(fatalities_df))*100:.2f}%\")\n",
        "print(f\"percentage of took_part_in_the_hostilities NA value: \\t{(fatalities_df['took_part_in_the_hostilities'].isna().sum()/len(fatalities_df))*100:.2f}%\")\n",
        "print(f\"percentage of place_of_residence NA value: \\t{(fatalities_df['place_of_residence'].isna().sum()/len(fatalities_df))*100:.2f}%\")\n",
        "print(f\"percentage of place_of_residence_district NA value: \\t{(fatalities_df['place_of_residence_district'].isna().sum()/len(fatalities_df))*100:.2f}%\")\n",
        "print(f\"percentage of type_of_injury NA value: \\t{(fatalities_df['type_of_injury'].isna().sum()/len(fatalities_df))*100:.2f}%\")\n",
        "print(f\"percentage of ammunition NA value: \\t{(fatalities_df['ammunition'].isna().sum()/len(fatalities_df))*100:.2f}%\")\n",
        "print(f\"percentage of notes NA value: \\t{(fatalities_df['notes'].isna().sum()/len(fatalities_df))*100:.2f}%\")"
      ],
      "metadata": {
        "colab": {
          "base_uri": "https://localhost:8080/"
        },
        "id": "TPPMfwsAcJGl",
        "outputId": "25a7885b-9468-42f8-a1b5-4391802a6780"
      },
      "execution_count": 9,
      "outputs": [
        {
          "output_type": "stream",
          "name": "stdout",
          "text": [
            "percentage of age NA value: \t1.16%\n",
            "percentage of gender NA value: \t0.18%\n",
            "percentage of took_part_in_the_hostilities NA value: \t12.86%\n",
            "percentage of place_of_residence NA value: \t0.61%\n",
            "percentage of place_of_residence_district NA value: \t0.61%\n",
            "percentage of type_of_injury NA value: \t2.62%\n",
            "percentage of ammunition NA value: \t47.22%\n",
            "percentage of notes NA value: \t2.52%\n"
          ]
        }
      ]
    },
    {
      "cell_type": "markdown",
      "source": [
        "based on this information, the data will be rearranged as follows:\n",
        "- Replace missing values for the variable `age` with the **mean value** (1.16%).\n",
        "- Missing values for the variables `sex`, `place_of_residence`, `place_of_residence_district`, `type_of_location`, and `notes` are replaced with the **mode value**. this is so as not to change the distribution of the data too much.\n",
        "- **Remove** the variables `has_participated_in_hostilities`, `ammunition` from the variable itself. The percentage of null values is excessive and would not lead to useful information for the entire population of the dataset."
      ],
      "metadata": {
        "id": "fxMqSpsagsr9"
      }
    },
    {
      "cell_type": "code",
      "source": [
        "age_mean = fatalities_df['age'].mean()\n",
        "fatalities_df['age'].fillna(age_mean, inplace=True)"
      ],
      "metadata": {
        "id": "FRrnBX6XfH7a"
      },
      "execution_count": 10,
      "outputs": []
    },
    {
      "cell_type": "code",
      "source": [
        "gender_mode = fatalities_df['gender'].mode()[0]\n",
        "fatalities_df['gender'].fillna(gender_mode, inplace=True)\n",
        "\n",
        "place_of_residence_mode = fatalities_df['place_of_residence'].mode()[0]\n",
        "fatalities_df['place_of_residence'].fillna(place_of_residence_mode, inplace=True)\n",
        "\n",
        "place_of_residence_district_mode = fatalities_df['place_of_residence_district'].mode()[0]\n",
        "fatalities_df['place_of_residence_district'].fillna(place_of_residence_district_mode, inplace=True)\n",
        "\n",
        "type_of_injury_mode = fatalities_df['type_of_injury'].mode()[0]\n",
        "fatalities_df['type_of_injury'].fillna(type_of_injury_mode, inplace=True)\n",
        "\n",
        "notes_mode = fatalities_df['notes'].mode()[0]\n",
        "fatalities_df['notes'].fillna(notes_mode, inplace=True)"
      ],
      "metadata": {
        "id": "XB00TDOwhPTg"
      },
      "execution_count": 11,
      "outputs": []
    },
    {
      "cell_type": "code",
      "source": [
        "fatalities_df.drop(['took_part_in_the_hostilities', 'ammunition'], axis=1, inplace=True)"
      ],
      "metadata": {
        "id": "tm8-A4BJhQB1"
      },
      "execution_count": 12,
      "outputs": []
    },
    {
      "cell_type": "markdown",
      "source": [
        "We now check again for null values as we did previously"
      ],
      "metadata": {
        "id": "VOr-Mk5VmN5e"
      }
    },
    {
      "cell_type": "code",
      "source": [
        "fatalities_df.isna().sum()"
      ],
      "metadata": {
        "colab": {
          "base_uri": "https://localhost:8080/"
        },
        "id": "Iz5NikU3mfqS",
        "outputId": "e3da54d7-770e-4f24-d134-3f853bf42859"
      },
      "execution_count": 13,
      "outputs": [
        {
          "output_type": "execute_result",
          "data": {
            "text/plain": [
              "name                           0\n",
              "date_of_event                  0\n",
              "age                            0\n",
              "citizenship                    0\n",
              "event_location                 0\n",
              "event_location_district        0\n",
              "event_location_region          0\n",
              "date_of_death                  0\n",
              "gender                         0\n",
              "place_of_residence             0\n",
              "place_of_residence_district    0\n",
              "type_of_injury                 0\n",
              "killed_by                      0\n",
              "notes                          0\n",
              "dtype: int64"
            ]
          },
          "metadata": {},
          "execution_count": 13
        }
      ]
    },
    {
      "cell_type": "markdown",
      "source": [
        "now that the null values have been settled we can proceed with EDA"
      ],
      "metadata": {
        "id": "5NSQ6wminsCk"
      }
    },
    {
      "cell_type": "markdown",
      "source": [
        "## Understanding the values"
      ],
      "metadata": {
        "id": "0iK7MKyampXg"
      }
    },
    {
      "cell_type": "code",
      "source": [
        "fatalities_df['type_of_injury'].value_counts()"
      ],
      "metadata": {
        "colab": {
          "base_uri": "https://localhost:8080/"
        },
        "id": "rdPRpZKanLnN",
        "outputId": "4164fd98-9edc-4b6e-e2d8-acc01bf59758"
      },
      "execution_count": 14,
      "outputs": [
        {
          "output_type": "execute_result",
          "data": {
            "text/plain": [
              "gunfire                         10140\n",
              "explosion                         555\n",
              "shelling                          311\n",
              "stabbing                           48\n",
              "house demolition                   25\n",
              "hit by a vehicle                   18\n",
              "beating                             9\n",
              "stones throwing                     6\n",
              "being bludgeoned with an axe        4\n",
              "fire                                4\n",
              "physically assaulted                2\n",
              "physical assault                    1\n",
              "Strangulation                       1\n",
              "Name: type_of_injury, dtype: int64"
            ]
          },
          "metadata": {},
          "execution_count": 14
        }
      ]
    },
    {
      "cell_type": "code",
      "source": [
        "fatalities_df['killed_by'].value_counts()"
      ],
      "metadata": {
        "colab": {
          "base_uri": "https://localhost:8080/"
        },
        "id": "Ei71VwQ5n8b5",
        "outputId": "f0916dee-61ab-42f2-e217-9124698e5f9d"
      },
      "execution_count": 15,
      "outputs": [
        {
          "output_type": "execute_result",
          "data": {
            "text/plain": [
              "Israeli security forces    10000\n",
              "Palestinian civilians       1028\n",
              "Israeli civilians             96\n",
              "Name: killed_by, dtype: int64"
            ]
          },
          "metadata": {},
          "execution_count": 15
        }
      ]
    },
    {
      "cell_type": "code",
      "source": [
        "fatalities_df['gender'].value_counts()"
      ],
      "metadata": {
        "colab": {
          "base_uri": "https://localhost:8080/"
        },
        "id": "wZrrCUTWoEP3",
        "outputId": "b3b8155c-1c57-4269-b965-32e319a629a7"
      },
      "execution_count": 16,
      "outputs": [
        {
          "output_type": "execute_result",
          "data": {
            "text/plain": [
              "M    9701\n",
              "F    1423\n",
              "Name: gender, dtype: int64"
            ]
          },
          "metadata": {},
          "execution_count": 16
        }
      ]
    },
    {
      "cell_type": "code",
      "source": [
        "fatalities_df['citizenship'].value_counts()"
      ],
      "metadata": {
        "colab": {
          "base_uri": "https://localhost:8080/"
        },
        "id": "ByySbrCYm2B8",
        "outputId": "08f20954-d436-4e94-b8c8-ac3246ef2367"
      },
      "execution_count": 17,
      "outputs": [
        {
          "output_type": "execute_result",
          "data": {
            "text/plain": [
              "Palestinian    10092\n",
              "Israeli         1029\n",
              "Jordanian          2\n",
              "American           1\n",
              "Name: citizenship, dtype: int64"
            ]
          },
          "metadata": {},
          "execution_count": 17
        }
      ]
    },
    {
      "cell_type": "code",
      "source": [
        "fatalities_df['event_location'].value_counts()"
      ],
      "metadata": {
        "colab": {
          "base_uri": "https://localhost:8080/"
        },
        "id": "a5zlhWYbnFW1",
        "outputId": "7b52121c-2714-47cd-e265-16acd5418f0f"
      },
      "execution_count": 18,
      "outputs": [
        {
          "output_type": "execute_result",
          "data": {
            "text/plain": [
              "Gaza City              2232\n",
              "Rafah                   832\n",
              "Khan Yunis              538\n",
              "Jabalya R.C.            477\n",
              "Beit Lahiya             471\n",
              "                       ... \n",
              "al-'Esawiyah              1\n",
              "Elazar                    1\n",
              "Kibbutz Beit Govrin       1\n",
              "Kh. Shuweika              1\n",
              "Masha                     1\n",
              "Name: event_location, Length: 494, dtype: int64"
            ]
          },
          "metadata": {},
          "execution_count": 18
        }
      ]
    },
    {
      "cell_type": "markdown",
      "source": [
        "# **PART 2:** Exploratory Data Analysis"
      ],
      "metadata": {
        "id": "k_O2pAQuNfrw"
      }
    },
    {
      "cell_type": "markdown",
      "source": [
        "## Deaths by nationality"
      ],
      "metadata": {
        "id": "vN9Ggu7X-7op"
      }
    },
    {
      "cell_type": "code",
      "source": [
        "fatalities_df['citizenship'].value_counts()"
      ],
      "metadata": {
        "colab": {
          "base_uri": "https://localhost:8080/"
        },
        "id": "4-MLIOcmD3qL",
        "outputId": "f502f0ac-63cd-4314-bd59-f98fd684f647"
      },
      "execution_count": 19,
      "outputs": [
        {
          "output_type": "execute_result",
          "data": {
            "text/plain": [
              "Palestinian    10092\n",
              "Israeli         1029\n",
              "Jordanian          2\n",
              "American           1\n",
              "Name: citizenship, dtype: int64"
            ]
          },
          "metadata": {},
          "execution_count": 19
        }
      ]
    },
    {
      "cell_type": "code",
      "source": [
        "citizen_perc = fatalities_df['citizenship'].value_counts(normalize=True) * 100\n",
        "citizen = 'citizenship'\n",
        "\n",
        "tab1 = pd.DataFrame({\n",
        "    citizen: citizen_perc.index,\n",
        "    '%': citizen_perc.values\n",
        "})\n",
        "\n",
        "tab1['%'] = tab1['%'].map('{:.2f}%'.format)"
      ],
      "metadata": {
        "id": "9nxmHseDMsNV"
      },
      "execution_count": 20,
      "outputs": []
    },
    {
      "cell_type": "code",
      "source": [
        "print(tab1)"
      ],
      "metadata": {
        "colab": {
          "base_uri": "https://localhost:8080/"
        },
        "id": "_omWNiSdOJ1N",
        "outputId": "a918eb91-ff78-4689-8fee-4bb5f35c3c2d"
      },
      "execution_count": 21,
      "outputs": [
        {
          "output_type": "stream",
          "name": "stdout",
          "text": [
            "   citizenship       %\n",
            "0  Palestinian  90.72%\n",
            "1      Israeli   9.25%\n",
            "2    Jordanian   0.02%\n",
            "3     American   0.01%\n"
          ]
        }
      ]
    },
    {
      "cell_type": "code",
      "source": [
        "plt.figure(figsize=(10,6))\n",
        "sns.set(style=\"white\", palette=\"Set2\")\n",
        "plt.title('Deaths by nationality')\n",
        "\n",
        "\n",
        "plot1 = sns.countplot(x='citizenship', data=fatalities_df, palette = sns.color_palette(\"viridis\"))\n",
        "\n",
        "for p in plot1.patches:\n",
        "    plot1.annotate(f'{p.get_height():.0f}', (p.get_x() + p.get_width() / 2., p.get_height()),\n",
        "                ha='center', va='center', fontsize=10, color='black', xytext=(0, 5),\n",
        "                textcoords='offset points')\n",
        "\n",
        "plt.xlabel(\"citizenship\")\n",
        "plt.ylabel(\"fatalities\")\n",
        "plt.show()"
      ],
      "metadata": {
        "colab": {
          "base_uri": "https://localhost:8080/",
          "height": 573
        },
        "id": "67C5wC4f_Ihy",
        "outputId": "1b8799e0-8fdc-40c4-fe43-80534d0ed188"
      },
      "execution_count": 64,
      "outputs": [
        {
          "output_type": "display_data",
          "data": {
            "text/plain": [
              "<Figure size 1000x600 with 1 Axes>"
            ],
            "image/png": "[encoded data removed]"
          },
          "metadata": {}
        }
      ]
    },
    {
      "cell_type": "markdown",
      "source": [
        "we can remove the values for `American`  and `Jordanian` citizenship so that we have a clearer and more useful graph for our investigation."
      ],
      "metadata": {
        "id": "bgZOsXqyFqTb"
      }
    },
    {
      "cell_type": "code",
      "source": [
        "fatalities_df_2 = fatalities_df[~fatalities_df['citizenship'].isin(['Jordanian', 'American'])]\n",
        "fatalities_df_2['citizenship'].value_counts()"
      ],
      "metadata": {
        "colab": {
          "base_uri": "https://localhost:8080/"
        },
        "id": "FXOo9smhB-Ja",
        "outputId": "f66aa857-097b-4a7d-f24e-50465fc9d226"
      },
      "execution_count": 23,
      "outputs": [
        {
          "output_type": "execute_result",
          "data": {
            "text/plain": [
              "Palestinian    10092\n",
              "Israeli         1029\n",
              "Name: citizenship, dtype: int64"
            ]
          },
          "metadata": {},
          "execution_count": 23
        }
      ]
    },
    {
      "cell_type": "code",
      "source": [
        "plt.figure(figsize=(10,6))\n",
        "sns.set(style = \"white\", palette = \"Set2\")\n",
        "plt.title('Deaths by nationality (Palestinian and Israeli)')\n",
        "\n",
        "\n",
        "plot1 = sns.countplot(x='citizenship', data = fatalities_df_2, palette = sns.color_palette(\"viridis\"))\n",
        "\n",
        "for p in plot1.patches:\n",
        "    plot1.annotate(f'{p.get_height():.0f}', (p.get_x() + p.get_width() / 2., p.get_height()),\n",
        "                ha='center', va='center', fontsize=10, color='black', xytext=(0, 5),\n",
        "                textcoords='offset points')\n",
        "\n",
        "plt.xlabel(\"citizenship\")\n",
        "plt.ylabel(\"fatalities\")\n",
        "plt.show()"
      ],
      "metadata": {
        "colab": {
          "base_uri": "https://localhost:8080/",
          "height": 573
        },
        "id": "0Z_WMtpsEIg5",
        "outputId": "3fc4cb44-e4a2-4d64-c1d2-8139d4254184"
      },
      "execution_count": 62,
      "outputs": [
        {
          "output_type": "display_data",
          "data": {
            "text/plain": [
              "<Figure size 1000x600 with 1 Axes>"
            ],
            "image/png": "[encoded data removed]"
          },
          "metadata": {}
        }
      ]
    },
    {
      "cell_type": "markdown",
      "source": [
        "## Analysis of regions with the most recorded deaths"
      ],
      "metadata": {
        "id": "U9vZHen5u2Ny"
      }
    },
    {
      "cell_type": "code",
      "source": [
        "plt.figure(figsize=(10,6))\n",
        "plt.title('Regions with the most recorded deaths (2000-2023)')\n",
        "plt.xlabel('Deaths')\n",
        "\n",
        "custom_palette = sns.color_palette(\"viridis\", n_colors=20)\n",
        "\n",
        "sns.barplot(data = fatalities_df,\n",
        "            x = fatalities_df['event_location'].value_counts().values[:20],\n",
        "            y = fatalities_df['event_location'].value_counts().index[:20],\n",
        "            palette = custom_palette)\n",
        "\n",
        "for i, v in enumerate(fatalities_df['event_location'].value_counts().values[:20]):\n",
        "    plt.text(v + 10, i, str(v), color='black', ha='left', va='center', fontsize = 9)\n",
        "\n",
        "plt.tight_layout()\n",
        "plt.show()"
      ],
      "metadata": {
        "colab": {
          "base_uri": "https://localhost:8080/",
          "height": 601
        },
        "id": "p09254njvF3U",
        "outputId": "a5830a20-7c76-480d-89e2-33c12d0dd265"
      },
      "execution_count": 54,
      "outputs": [
        {
          "output_type": "display_data",
          "data": {
            "text/plain": [
              "<Figure size 1000x600 with 1 Axes>"
            ],
            "image/png": "[encoded data removed]"
          },
          "metadata": {}
        }
      ]
    },
    {
      "cell_type": "markdown",
      "source": [
        "So the main localities involved in this conflict are the cities of: `Gaza City`, `Rafah`, `Khan Yunis`. From this we delve into the year 2023 and check in which location the most casualties occurred. (remember that the data for 2023 refers to before the Israel Palestine conflict in October 2023)"
      ],
      "metadata": {
        "id": "1IZaBZ9Swytw"
      }
    },
    {
      "cell_type": "code",
      "source": [
        "fatalities_df['date_of_death'] = pd.to_datetime(fatalities_df['date_of_death'])\n",
        "fatalities_df_2023 = fatalities_df[fatalities_df['date_of_death'].dt.year == 2023]\n",
        "residence_death_counts = fatalities_df_2023['place_of_residence'].value_counts()\n",
        "top_3_residences = residence_death_counts.head(3)\n",
        "\n",
        "plt.figure(figsize=(10, 6))\n",
        "plot2 = sns.barplot(x = top_3_residences.index,\n",
        "                 y = top_3_residences.values,\n",
        "                 palette = sns.color_palette(\"viridis\"))\n",
        "\n",
        "plt.title('locations the most casualties occurred in 2023')\n",
        "plt.xlabel('locations')\n",
        "plt.ylabel('fatalities')\n",
        "\n",
        "plt.xticks(rotation=45)\n",
        "\n",
        "for p in plot2.patches:\n",
        "    plot2.annotate(f'{p.get_height():.0f}', (p.get_x() + p.get_width() / 2., p.get_height()),\n",
        "                ha = 'center', va = 'center', fontsize = 10, color = 'black', xytext = (0, 5),\n",
        "                textcoords = 'offset points')\n",
        "\n",
        "plt.show()"
      ],
      "metadata": {
        "colab": {
          "base_uri": "https://localhost:8080/",
          "height": 620
        },
        "id": "kJ9IXMRTzCqF",
        "outputId": "1e7b81d6-361d-4980-d5b8-a27f6ecbc042"
      },
      "execution_count": 59,
      "outputs": [
        {
          "output_type": "display_data",
          "data": {
            "text/plain": [
              "<Figure size 1000x600 with 1 Axes>"
            ],
            "image/png": "[encoded data removed]"
          },
          "metadata": {}
        }
      ]
    },
    {
      "cell_type": "markdown",
      "source": [
        "## Analysis of death trends over the years"
      ],
      "metadata": {
        "id": "QaDJZZec032n"
      }
    },
    {
      "cell_type": "markdown",
      "source": [
        "Transformation of the column containing dates into a format that is easy to manipulate"
      ],
      "metadata": {
        "id": "oJLheDuz2BsX"
      }
    },
    {
      "cell_type": "code",
      "source": [
        "fatalities_df['date_of_death'] = pd.to_datetime(fatalities_df['date_of_death'])\n",
        "fatalities_df['year'] = fatalities_df['date_of_death'].dt.year\n",
        "fatality_by_year = fatalities_df.groupby('year').size().reset_index(name='fatalities')"
      ],
      "metadata": {
        "id": "yPiXi0nWzpXA"
      },
      "execution_count": 68,
      "outputs": []
    },
    {
      "cell_type": "code",
      "source": [
        "plt.figure(figsize=(10, 6))\n",
        "plt.title('Death trends from 2000 to 2023')\n",
        "plt.xlabel('Years')\n",
        "plt.ylabel('Deaths')\n",
        "plt.ylim(0, 2800)\n",
        "plt.xticks(fatality_by_year['year'], rotation = 45)\n",
        "\n",
        "fatality_by_year = fatalities_df.groupby('year').size().reset_index(name='fatalities')\n",
        "\n",
        "plot4 = sns.lineplot(x='year',\n",
        "                     y='fatalities',\n",
        "                     data=fatality_by_year,\n",
        "                     markers=True,\n",
        "                     label='Fatalities Trend')\n",
        "\n",
        "for x, y in zip(fatality_by_year['year'], fatality_by_year['fatalities']):\n",
        "    plt.text(x, y, f'{y}', ha='right', va='bottom', fontsize=8, color='black')\n",
        "\n",
        "plt.legend()\n",
        "\n",
        "plt.grid(True, axis='y')\n",
        "plt.show()"
      ],
      "metadata": {
        "colab": {
          "base_uri": "https://localhost:8080/",
          "height": 596
        },
        "id": "JZrxcFezXZyR",
        "outputId": "d8496791-89b5-4941-d7dd-fe307d6378fb"
      },
      "execution_count": 45,
      "outputs": [
        {
          "output_type": "display_data",
          "data": {
            "text/plain": [
              "<Figure size 1000x600 with 1 Axes>"
            ],
            "image/png": "[encoded data removed]"
          },
          "metadata": {}
        }
      ]
    },
    {
      "cell_type": "code",
      "source": [
        "plt.figure(figsize=(10, 6))\n",
        "plt.title('Death trends from 2000 to 2023: Total, Palestinian and Israeli')\n",
        "plt.xlabel('years')\n",
        "plt.ylabel('deaths')\n",
        "plt.xticks(fatality_by_year['year'], rotation = 45)\n",
        "\n",
        "viridis_palette = sns.color_palette('viridis', n_colors=3)\n",
        "selected_colors = [viridis_palette[0], viridis_palette[1], viridis_palette[2]]\n",
        "\n",
        "fatality_by_year = fatalities_df.groupby('year').size().reset_index(name='fatalities')\n",
        "\n",
        "plot4 = sns.lineplot(x='year',\n",
        "                     y='fatalities',\n",
        "                     data=fatality_by_year,\n",
        "                     markers=True,\n",
        "                     label='Fatalities Trend')\n",
        "\n",
        "palestinian_data = fatalities_df[fatalities_df['citizenship'] == 'Palestinian']\n",
        "palestinian_fatalities_by_year = palestinian_data.groupby('year').size().reset_index(name='palestinian_fatalities')\n",
        "\n",
        "sns.lineplot(x='year',\n",
        "             y='palestinian_fatalities',\n",
        "             data = palestinian_fatalities_by_year,\n",
        "             markers=True,\n",
        "             color='red',\n",
        "             label='Palestinian Fatalities Trend')\n",
        "\n",
        "israeli_data = fatalities_df[fatalities_df['citizenship'] == 'Israeli']\n",
        "israeli_fatalities_by_year = israeli_data.groupby('year').size().reset_index(name='israeli_fatalities')\n",
        "\n",
        "sns.lineplot(x='year',\n",
        "             y='israeli_fatalities',\n",
        "             data=israeli_fatalities_by_year,\n",
        "             markers=True,\n",
        "             color='green',\n",
        "             label='Israeli Fatalities Trend')\n",
        "\n",
        "plt.legend()\n",
        "plt.grid(True, axis='y')\n",
        "plt.show()"
      ],
      "metadata": {
        "colab": {
          "base_uri": "https://localhost:8080/",
          "height": 596
        },
        "id": "_lEAtf4TccN9",
        "outputId": "3754ce68-53e7-4185-9e9a-a5c6fe63e1a6"
      },
      "execution_count": 109,
      "outputs": [
        {
          "output_type": "display_data",
          "data": {
            "text/plain": [
              "<Figure size 1000x600 with 1 Axes>"
            ],
            "image/png": "[encoded data removed]"
          },
          "metadata": {}
        }
      ]
    }
  ]
}